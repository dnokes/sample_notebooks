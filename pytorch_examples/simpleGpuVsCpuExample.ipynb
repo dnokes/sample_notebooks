{
 "cells": [
  {
   "cell_type": "code",
   "execution_count": 93,
   "metadata": {},
   "outputs": [],
   "source": [
    "import numpy\n",
    "import math\n",
    "import torch\n",
    "import pandas\n",
    "import timeit\n",
    "from timeit import default_timer as timer"
   ]
  },
  {
   "cell_type": "code",
   "execution_count": 94,
   "metadata": {},
   "outputs": [],
   "source": [
    "%matplotlib inline"
   ]
  },
  {
   "cell_type": "code",
   "execution_count": 95,
   "metadata": {},
   "outputs": [
    {
     "data": {
      "text/plain": [
       "True"
      ]
     },
     "execution_count": 95,
     "metadata": {},
     "output_type": "execute_result"
    }
   ],
   "source": [
    "torch.cuda.is_available()"
   ]
  },
  {
   "cell_type": "code",
   "execution_count": 96,
   "metadata": {},
   "outputs": [],
   "source": [
    "cuda0 = torch.device('cuda:0')"
   ]
  },
  {
   "cell_type": "code",
   "execution_count": 97,
   "metadata": {},
   "outputs": [],
   "source": [
    "def assetPathsCPU(S0,mu,sigma,T,nRows,nPaths):\n",
    "    dt = T/nRows\n",
    "    nudt = (mu-0.5*sigma**2)*dt    \n",
    "    sidt = sigma*math.sqrt(dt)\n",
    "    increments = nudt + sidt*numpy.random.randn(int(nRows),int(nPaths))\n",
    "    x=numpy.concatenate((math.log(S0)*numpy.ones((1,int(nPaths))),increments))\n",
    "    pricePaths=numpy.exp(numpy.cumsum(x,axis=0))\n",
    "\n",
    "    return pricePaths\n",
    "\n",
    "def assetPathsGPU(S0,mu,sigma,T,nRows,nPaths,dtype,device):\n",
    "    dt = T/nRows\n",
    "    nudt = (mu-0.5*sigma**2)*dt\n",
    "    sidt = sigma*torch.sqrt(dt)\n",
    "    pricePaths=torch.exp(torch.cumsum(torch.cat((torch.log(S0)*torch.ones(1,nPaths,dtype=dtype,device=cuda0),\n",
    "        torch.distributions.Normal(nudt,sidt).sample((nRows, nPaths)).squeeze()), dim=0),dim=0))\n",
    "    \n",
    "    return pricePaths"
   ]
  },
  {
   "cell_type": "code",
   "execution_count": 98,
   "metadata": {},
   "outputs": [
    {
     "name": "stdout",
     "output_type": "stream",
     "text": [
      "15.2 ms ± 205 µs per loop (mean ± std. dev. of 7 runs, 100 loops each)\n"
     ]
    }
   ],
   "source": [
    "%%timeit\n",
    "\n",
    "nRows=2500\n",
    "nPaths=10000\n",
    "dtype=torch.double\n",
    "# define parameters\n",
    "S0 = torch.tensor([100.0],requires_grad=False,dtype=dtype, device=cuda0)\n",
    "T = torch.tensor([10.0],requires_grad=False,dtype=dtype, device=cuda0)\n",
    "mu = torch.tensor([0.08],requires_grad=False,dtype=dtype, device=cuda0)\n",
    "sigma = torch.tensor([0.1],requires_grad=False,dtype=dtype, device=cuda0)\n",
    "# simulate price paths on the CPU\n",
    "assetPathsGPU(S0,mu,sigma,T,nRows,nPaths,dtype,cuda0)"
   ]
  },
  {
   "cell_type": "code",
   "execution_count": 99,
   "metadata": {},
   "outputs": [],
   "source": [
    "randomSeed=12345678\n",
    "# set random seed\n",
    "torch.manual_seed(randomSeed)\n",
    "\n",
    "nRows=2500\n",
    "nPaths=10000\n",
    "dtype=torch.double\n",
    "# define parameters\n",
    "S0 = torch.tensor([100.0],requires_grad=False,dtype=dtype, device=cuda0)\n",
    "T = torch.tensor([10.0],requires_grad=False,dtype=dtype, device=cuda0)\n",
    "mu = torch.tensor([0.08],requires_grad=False,dtype=dtype, device=cuda0)\n",
    "sigma = torch.tensor([0.1],requires_grad=False,dtype=dtype, device=cuda0)\n",
    "# simulate price paths on the CPU\n",
    "assetPathsGPU(S0,mu,sigma,T,nRows,nPaths,dtype,cuda0)\n",
    "# simulate price paths on the GPU\n",
    "pricePathsGPU=assetPathsGPU(S0,mu,sigma,T,nRows,nPaths,dtype,cuda0)"
   ]
  },
  {
   "cell_type": "code",
   "execution_count": 100,
   "metadata": {},
   "outputs": [
    {
     "name": "stdout",
     "output_type": "stream",
     "text": [
      "1.27 s ± 6.15 ms per loop (mean ± std. dev. of 7 runs, 1 loop each)\n"
     ]
    }
   ],
   "source": [
    "%%timeit\n",
    "\n",
    "nRows=2500\n",
    "nPaths=10000\n",
    "# define parameters\n",
    "S0 = 100.0\n",
    "T = 10.0\n",
    "mu = 0.08\n",
    "sigma = 0.1\n",
    "# simulate price paths\n",
    "assetPathsCPU(S0,mu,sigma,T,nRows,nPaths)\n"
   ]
  },
  {
   "cell_type": "markdown",
   "metadata": {},
   "source": [
    "The GPU version is significantly faster than the CPU version as expected"
   ]
  },
  {
   "cell_type": "code",
   "execution_count": 101,
   "metadata": {},
   "outputs": [],
   "source": [
    "numpy.random.seed(randomSeed)\n",
    "\n",
    "nRows=2500\n",
    "nPaths=10000\n",
    "# define parameters\n",
    "S0 = 100.0\n",
    "T = 10.0\n",
    "mu = 0.08\n",
    "sigma = 0.1\n",
    "# simulate price paths\n",
    "pricePathsCPU=assetPathsCPU(S0,mu,sigma,T,nRows,nPaths)"
   ]
  },
  {
   "cell_type": "code",
   "execution_count": 102,
   "metadata": {},
   "outputs": [],
   "source": [
    "pricePathsGPU_CPU=pricePathsGPU.cpu().numpy()\n",
    "pricePathsCpuDf=pandas.DataFrame(pricePathsCPU)\n",
    "pricePathsGpuDf=pandas.DataFrame(pricePathsGPU_CPU)\n",
    "meanGPU=pricePathsGpuDf.mean(axis=1)\n",
    "meanCPU=pricePathsCpuDf.mean(axis=1)"
   ]
  },
  {
   "cell_type": "code",
   "execution_count": 103,
   "metadata": {},
   "outputs": [
    {
     "data": {
      "text/plain": [
       "<matplotlib.axes._subplots.AxesSubplot at 0x7f28b23c23c8>"
      ]
     },
     "execution_count": 103,
     "metadata": {},
     "output_type": "execute_result"
    },
    {
     "data": {
      "image/png": "[encoded data removed]",
      "text/plain": [
       "<Figure size 432x288 with 1 Axes>"
      ]
     },
     "metadata": {
      "needs_background": "light"
     },
     "output_type": "display_data"
    }
   ],
   "source": [
    "meanCompare=pandas.concat({'meanCPU' : meanCPU,'meanGPU' : meanGPU},axis=1)\n",
    "meanCompare.plot()"
   ]
  },
  {
   "cell_type": "markdown",
   "metadata": {},
   "source": [
    "Now we define the functions where I expect a speed up, but do not see one:"
   ]
  },
  {
   "cell_type": "code",
   "execution_count": 104,
   "metadata": {},
   "outputs": [],
   "source": [
    "def emaNPathsCPU(pricePaths,lookback):\n",
    "    # find T and nPaths\n",
    "    T,nPaths=pricePaths.shape\n",
    "    # create output array\n",
    "    ema=numpy.zeros([int(T),int(nPaths)])\n",
    "    # compute the smoothing constant\n",
    "    a = 2.0 / ( lookback + 1.0 )\n",
    "    # iterate over each price path\n",
    "    for pathIndex in range(0,int(nPaths)):\n",
    "        # iterate over each price path\n",
    "        ema[0,pathIndex] = pricePaths[0,pathIndex]\n",
    "        # iterate over each point in time and compute the EMA \n",
    "        for t in range(1,T):\n",
    "            ema[t,pathIndex]=a * (pricePaths[t,pathIndex]-ema[t-1,\n",
    "                pathIndex]) + ema[t-1,pathIndex]\n",
    "    return ema\n",
    "\n",
    "def emaNPathsGPU(pricePaths,lookback,dtype,device):\n",
    "    # find T and nPaths\n",
    "    T,nPaths=pricePaths.shape\n",
    "    # create output array\n",
    "    #ema=numpy.zeros([int(T),int(nPaths)])\n",
    "    ema=torch.zeros(T,nPaths,dtype=dtype,device=device)  \n",
    "    # compute the smoothing constant\n",
    "    a = 2.0 / ( lookback + 1.0 )\n",
    "    ema[0,:] = pricePaths[0,:]    \n",
    "    # iterate over each price path\n",
    "    for pathIndex in range(nPaths):\n",
    "        # iterate over each point in time and compute the EMA \n",
    "        for t in range(1,T):\n",
    "            ema[t,pathIndex]=a * (pricePaths[t,pathIndex]-ema[t-1,\n",
    "                pathIndex]) + ema[t-1,pathIndex]\n",
    "    return ema\n"
   ]
  },
  {
   "cell_type": "markdown",
   "metadata": {},
   "source": [
    "We pass our fake price paths to the GPU version:"
   ]
  },
  {
   "cell_type": "code",
   "execution_count": 105,
   "metadata": {},
   "outputs": [
    {
     "data": {
      "text/plain": [
       "torch.Size([2501, 1000])"
      ]
     },
     "execution_count": 105,
     "metadata": {},
     "output_type": "execute_result"
    }
   ],
   "source": [
    "pricePathsGPU[:,0:1000].shape"
   ]
  },
  {
   "cell_type": "code",
   "execution_count": 106,
   "metadata": {},
   "outputs": [
    {
     "name": "stdout",
     "output_type": "stream",
     "text": [
      "EMA Time Elasped (GPU): 107.70547575701494\n"
     ]
    }
   ],
   "source": [
    "lookbackGPU=torch.tensor(90.0,dtype=dtype,device=cuda0)\n",
    "dtype=torch.float64\n",
    "# start timer (EMA)\n",
    "ts_emaGPU = timer()\n",
    "# EMA on paths\n",
    "emaGPU=emaNPathsGPU(pricePathsGPU[:,0:1000],lookbackGPU,dtype,cuda0)\n",
    "# end timer (prices)\n",
    "te_emaGPU = timer()\n",
    "# compute time elasped\n",
    "timeElasped_emaGPU=te_emaGPU-ts_emaGPU\n",
    "# display time elasped\n",
    "print('EMA Time Elasped (GPU): '+str(timeElasped_emaGPU))"
   ]
  },
  {
   "cell_type": "markdown",
   "metadata": {},
   "source": [
    "We pass our fake price paths to the CPU version:"
   ]
  },
  {
   "cell_type": "code",
   "execution_count": 109,
   "metadata": {},
   "outputs": [
    {
     "name": "stdout",
     "output_type": "stream",
     "text": [
      "EMA Time Elasped (CPU): 3.875478568021208\n"
     ]
    }
   ],
   "source": [
    "pricePathsGPU_CPU=pricePathsGPU.cpu().numpy()\n",
    "lookbackCPU=90.0\n",
    "# start timer (EMA)\n",
    "ts_emaCPU = timer()\n",
    "# EMA on paths\n",
    "emaCPU=emaNPathsCPU(pricePathsGPU_CPU[:,0:1000],lookbackCPU)\n",
    "# end timer (EMA)\n",
    "te_emaCPU = timer()\n",
    "# compute time elasped\n",
    "timeElasped_emaCPU=te_emaCPU-ts_emaCPU\n",
    "# display time elasped\n",
    "print('EMA Time Elasped (CPU): '+str(timeElasped_emaCPU))"
   ]
  },
  {
   "cell_type": "markdown",
   "metadata": {},
   "source": [
    "Why is the GPU version so slow?\n",
    "\n",
    "What can I do to make the PyTorch version faster?"
   ]
  }
 ],
 "metadata": {
  "kernelspec": {
   "display_name": "Python 3",
   "language": "python",
   "name": "python3"
  },
  "language_info": {
   "codemirror_mode": {
    "name": "ipython",
    "version": 3
   },
   "file_extension": ".py",
   "mimetype": "text/x-python",
   "name": "python",
   "nbconvert_exporter": "python",
   "pygments_lexer": "ipython3",
   "version": "3.6.8"
  }
 },
 "nbformat": 4,
 "nbformat_minor": 2
}
